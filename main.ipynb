{
 "cells": [
  {
   "cell_type": "markdown",
   "metadata": {
    "collapsed": true
   },
   "source": [
    "## Postcard Text Generator"
   ]
  },
  {
   "cell_type": "code",
   "execution_count": 2,
   "metadata": {},
   "outputs": [],
   "source": [
    "params = {\"receiver_name\": \"Elwood Blues\",\n",
    "          \"sender_name\": \"Jake Blues\",\n",
    "          \"receiver_gender\": \"male\",\n",
    "          \"sender_gender\": \"male\",\n",
    "          \"lang\": \"DE\",\n",
    "          \"formal\": False,\n",
    "          \"vacation_location\": \"Chicago\",\n",
    "          \"vacation_startdate\": 1536314400,\n",
    "          \"vacation_enddate\": 1536516000\n",
    "          }"
   ]
  },
  {
   "cell_type": "code",
   "execution_count": 3,
   "metadata": {
    "collapsed": false
   },
   "outputs": [
    {
     "name": "stdout",
     "output_type": "stream",
     "text": [
      "Hallo Elwood Blues,\n\nIch bin hier in Chicago. Chicago (deutsche Schreibweise: Chikago, Aussprache: [ʃɪˈkɑːgoʊ]; ) ist eine Stadt am Südwestufer des Michigansees im Bundesstaat Illinois in den Vereinigten Staaten von Amerika. Mit einer Einwohnerzahl von 2.722.389 (2014) ist sie die drittgrößte Stadt der Vereinigten Staaten.\n\nMeine Postkarte verlässt den Urlaubsort,\nich möchte von hier nie wieder fort.\nDenn nur hier ist das Paradies auf Erden,\nhier möchte ich alt werden.\n\nLeben Sie wohl! und auf freundliches Wiedersehen. Ihre ergebene\nJake Blues\n"
     ]
    }
   ],
   "source": [
    "from starting_formula_connector import StartingFormulaConnector\n",
    "from random_saying_connector import RandomSayingConnector\n",
    "from quote_connector import QuoteConnector\n",
    "from wikipedia_firstlines_connector import WikipediaFirstlinesConnector\n",
    "\n",
    "text = \"\"\n",
    "\n",
    "text += StartingFormulaConnector(params).get_text()\n",
    "text += WikipediaFirstlinesConnector(params).get_text()\n",
    "text += \"\\n\\n\"\n",
    "text += RandomSayingConnector(params).get_text()\n",
    "text += QuoteConnector(params).get_text()\n",
    "\n",
    "print(text)"
   ]
  },
  {
   "cell_type": "code",
   "execution_count": 3,
   "metadata": {},
   "outputs": [],
   "source": [
    ""
   ]
  },
  {
   "cell_type": "code",
   "execution_count": null,
   "metadata": {},
   "outputs": [],
   "source": []
  }
 ],
 "metadata": {
  "kernelspec": {
   "display_name": "Python 2",
   "language": "python",
   "name": "python2"
  },
  "language_info": {
   "codemirror_mode": {
    "name": "ipython",
    "version": 2
   },
   "file_extension": ".py",
   "mimetype": "text/x-python",
   "name": "python",
   "nbconvert_exporter": "python",
   "pygments_lexer": "ipython2",
   "version": "2.7.6"
  }
 },
 "nbformat": 4,
 "nbformat_minor": 0
}
